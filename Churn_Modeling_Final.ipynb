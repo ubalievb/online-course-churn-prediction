{
 "cells": [
  {
   "cell_type": "markdown",
   "id": "9dcb261d",
   "metadata": {},
   "source": [
    "# Предсказание оттока студентов на онлайн‑курсе\n",
    "\n",
    "**Цель проекта:** построить модель, которая по первым дням активности студента на платформе предсказывает, завершит ли он курс (наберёт > 40 баллов).\n",
    "\n",
    "**Данные:** лог событий курса (просмотры, попытки, успешные и неуспешные сабмиты) за *первые 2–3 дня* активности каждого пользователя.\n",
    "\n",
    "**Бизнес‑ценность:** модель позволяет заранее выявлять “риск” ухода студента, чтобы своевременно предложить помощь и увеличить показатель завершения обучения.\n"
   ]
  },
  {
   "cell_type": "code",
   "execution_count": 2,
   "id": "85d7551c",
   "metadata": {},
   "outputs": [
    {
     "data": {
      "text/html": [
       "<style>table {font-size: 5px;}</style>"
      ],
      "text/plain": [
       "<IPython.core.display.HTML object>"
      ]
     },
     "execution_count": 2,
     "metadata": {},
     "output_type": "execute_result"
    }
   ],
   "source": [
    "import pandas as pd\n",
    "import numpy as np\n",
    "import matplotlib.pyplot as plt\n",
    "import seaborn as sns\n",
    "from sklearn import tree\n",
    "%matplotlib inline\n",
    "\n",
    "from sklearn.model_selection import cross_val_score\n",
    "\n",
    "from IPython.core.display import HTML\n",
    "\n",
    "HTML(\"<style>table {font-size: 5px;}</style>\")\n",
    "\n"
   ]
  },
  {
   "cell_type": "markdown",
   "id": "ffab2347",
   "metadata": {},
   "source": [
    "events_train.csv - данные о действиях, которые совершают студенты со стэпами\n",
    "\n",
    "* step_id - id стэпа\n",
    "* user_id - анонимизированный id юзера\n",
    "* timestamp - время наступления события в формате unix date\n",
    "* action - событие, возможные значения: \n",
    "* discovered - пользователь перешел на стэп\n",
    "* viewed - просмотр шага,\n",
    "* started_attempt - начало попытки решить шаг, ранее нужно было явно нажать на кнопку - начать решение, перед тем как приступить к решению практического шага\n",
    "* passed - удачное решение практического шага\n",
    "\n",
    "submissions_train.csv - данные о времени и статусах сабмитов к практическим заданиям\n",
    "\n",
    "* step_id - id стэпа\n",
    "* timestamp - время отправки решения в формате unix date\n",
    "* submission_status - статус решения\n",
    "* user_id - анонимизированный id юзера"
   ]
  },
  {
   "cell_type": "markdown",
   "id": "09cab8b8",
   "metadata": {},
   "source": [
    "Многие онлайн-курсы сталкиваются с одной и той же проблемой: большое количество студентов записываются на курс, но успешно завершают его лишь 5–10%. Перед нами стоит задача — не меняя содержание курса, увеличить долю студентов, которые доходят до конца.\n",
    "\n",
    "Для этого необходимо проанализировать поведение студентов: как часто они заходят на платформу, с какой скоростью проходят шаги, на каких этапах чаще всего возникают трудности или происходит отток. Сравнение поведения студентов, завершивших курс, и тех, кто его бросил, может помочь выявить ключевые факторы, влияющие на успешное завершение.\n",
    "\n",
    "Интересное направление — построить предсказательную модель, которая уже в первые дни после начала обучения будет оценивать вероятность того, завершит ли студент курс. Такая модель может стать основой для раннего вмешательства: если система \"заметит\", что студент находится в группе риска, ему можно своевременно предложить помощь, дополнительную мотивацию или поддержку. Это позволит повысить вовлечённость и, в конечном итоге, увеличить завершение курса без изменения его содержания."
   ]
  },
  {
   "cell_type": "code",
   "execution_count": 3,
   "id": "abfa3ea9",
   "metadata": {},
   "outputs": [],
   "source": [
    "# Загрузка данных\n",
    "events_data = pd.read_csv('https://stepik.org/media/attachments/course/4852/event_data_train.zip')\n",
    "submissions_data = pd.read_csv('https://stepik.org/media/attachments/course/4852/submissions_data_train.zip')    "
   ]
  },
  {
   "cell_type": "markdown",
   "id": "970f42cd",
   "metadata": {},
   "source": [
    "📌 Преобразование временных меток\n",
    "Так как в данных все события указаны в формате Unix time (в секундах), мы преобразуем их в формат datetime с помощью pd.to_datetime()"
   ]
  },
  {
   "cell_type": "code",
   "execution_count": 4,
   "id": "731bbaef",
   "metadata": {},
   "outputs": [],
   "source": [
    "# Преобразуем timestamp в формат datetime\n",
    "submissions_data['date'] = pd.to_datetime(submissions_data.timestamp, unit='s')\n",
    "events_data['date'] = pd.to_datetime(events_data.timestamp, unit='s')\n",
    "# Извлекаем только дату (без времени)\n",
    "submissions_data['day'] = submissions_data.date.dt.date \n",
    "events_data['day'] = events_data.date.dt.date "
   ]
  },
  {
   "cell_type": "code",
   "execution_count": null,
   "id": "de2e37d5",
   "metadata": {},
   "outputs": [],
   "source": []
  },
  {
   "cell_type": "markdown",
   "id": "dc8857c5",
   "metadata": {},
   "source": [
    "✅ 1. Анализ количества успешно пройденных шагов"
   ]
  },
  {
   "cell_type": "code",
   "execution_count": 5,
   "id": "e793f819",
   "metadata": {},
   "outputs": [
    {
     "data": {
      "image/png": "[encoded data removed]",
      "text/plain": [
       "<Figure size 720x360 with 1 Axes>"
      ]
     },
     "metadata": {
      "needs_background": "light"
     },
     "output_type": "display_data"
    }
   ],
   "source": [
    "# Строим распределение количества пройденных шагов для оценки вовлечённости студентов\n",
    "\n",
    "# Отбираем события типа \"passed\", группируем по пользователю и считаем количество пройденных шагов\n",
    "events_data[events_data.action == 'passed'] \\\n",
    "    .groupby('user_id', as_index=False) \\\n",
    "    .agg({'step_id': 'count'}) \\\n",
    "    .rename(columns={'step_id': 'passed_steps'}) \\\n",
    "    .passed_steps.hist(figsize=(10, 5), bins=50, color='lightgreen', edgecolor='black')\n",
    "\n",
    "plt.title('Распределение количества пройденных шагов', fontsize=14)\n",
    "plt.xlabel('Количество пройденных шагов')\n",
    "plt.ylabel('Количество пользователей')\n",
    "plt.grid(True, linestyle='--', alpha=0.5)\n",
    "plt.tight_layout()\n",
    "plt.show()"
   ]
  },
  {
   "cell_type": "markdown",
   "id": "c7f18f42",
   "metadata": {},
   "source": [
    "Большинство студентов завершили совсем небольшое количество шагов, что ожидаемо: это отражает общую тенденцию низкой вовлечённости в онлайн-обучении. Далее мы исследуем поведенческие интервалы между днями активности, чтобы формализовать понятие \"дропаут\"."
   ]
  },
  {
   "cell_type": "code",
   "execution_count": null,
   "id": "81eeb6eb",
   "metadata": {},
   "outputs": [],
   "source": []
  },
  {
   "cell_type": "markdown",
   "id": "2a56ceba",
   "metadata": {},
   "source": [
    "✅ 2. Подготовка данных: учёт активности по дням"
   ]
  },
  {
   "cell_type": "code",
   "execution_count": 6,
   "id": "2acd9854",
   "metadata": {},
   "outputs": [
    {
     "data": {
      "text/html": [
       "<div>\n",
       "<style scoped>\n",
       "    .dataframe tbody tr th:only-of-type {\n",
       "        vertical-align: middle;\n",
       "    }\n",
       "\n",
       "    .dataframe tbody tr th {\n",
       "        vertical-align: top;\n",
       "    }\n",
       "\n",
       "    .dataframe thead th {\n",
       "        text-align: right;\n",
       "    }\n",
       "</style>\n",
       "<table border=\"1\" class=\"dataframe\">\n",
       "  <thead>\n",
       "    <tr style=\"text-align: right;\">\n",
       "      <th></th>\n",
       "      <th>user_id</th>\n",
       "      <th>day</th>\n",
       "      <th>timestamp</th>\n",
       "    </tr>\n",
       "  </thead>\n",
       "  <tbody>\n",
       "    <tr>\n",
       "      <th>0</th>\n",
       "      <td>17632</td>\n",
       "      <td>2015-06-15</td>\n",
       "      <td>1434340848</td>\n",
       "    </tr>\n",
       "    <tr>\n",
       "      <th>36</th>\n",
       "      <td>12494</td>\n",
       "      <td>2015-06-15</td>\n",
       "      <td>1434341931</td>\n",
       "    </tr>\n",
       "    <tr>\n",
       "      <th>59</th>\n",
       "      <td>442</td>\n",
       "      <td>2015-06-15</td>\n",
       "      <td>1434342029</td>\n",
       "    </tr>\n",
       "    <tr>\n",
       "      <th>62</th>\n",
       "      <td>22254</td>\n",
       "      <td>2015-06-15</td>\n",
       "      <td>1434342042</td>\n",
       "    </tr>\n",
       "    <tr>\n",
       "      <th>94</th>\n",
       "      <td>6646</td>\n",
       "      <td>2015-06-15</td>\n",
       "      <td>1434342230</td>\n",
       "    </tr>\n",
       "  </tbody>\n",
       "</table>\n",
       "</div>"
      ],
      "text/plain": [
       "    user_id         day   timestamp\n",
       "0     17632  2015-06-15  1434340848\n",
       "36    12494  2015-06-15  1434341931\n",
       "59      442  2015-06-15  1434342029\n",
       "62    22254  2015-06-15  1434342042\n",
       "94     6646  2015-06-15  1434342230"
      ]
     },
     "execution_count": 6,
     "metadata": {},
     "output_type": "execute_result"
    }
   ],
   "source": [
    "# Выделяем только нужные столбцы\n",
    "# Удаляем дубликаты: если пользователь был активен хотя бы раз в день — считаем его активным в этот день\n",
    "\n",
    "cleaned_events = events_data[['user_id', 'day', 'timestamp']].drop_duplicates(subset=['user_id', 'day'])\n",
    "cleaned_events.head()"
   ]
  },
  {
   "cell_type": "markdown",
   "id": "d7548548",
   "metadata": {},
   "source": [
    "В течение одного дня у пользователя может быть множество событий. Нам важно зафиксировать только факт активности в конкретный день, а не её количество. Поэтому мы оставляем по одному событию на день для каждого пользователя."
   ]
  },
  {
   "cell_type": "code",
   "execution_count": null,
   "id": "3d4f89cd",
   "metadata": {},
   "outputs": [],
   "source": []
  },
  {
   "cell_type": "markdown",
   "id": "b850cbfb",
   "metadata": {},
   "source": [
    "✅ 3. Получение таймстемпов и расчёт временных промежутков"
   ]
  },
  {
   "cell_type": "code",
   "execution_count": 7,
   "id": "c6c20c79",
   "metadata": {},
   "outputs": [
    {
     "data": {
      "text/plain": [
       "0    56.060208\n",
       "1    79.852419\n",
       "2     2.112083\n",
       "3     1.084606\n",
       "4    32.047106\n",
       "dtype: float64"
      ]
     },
     "execution_count": 7,
     "metadata": {},
     "output_type": "execute_result"
    }
   ],
   "source": [
    "# Группируем данные по пользователю, собираем список дней, когда он был активен\n",
    "# Затем считаем разницу между последовательными днями (в секундах)\n",
    "\n",
    "gap_data = (\n",
    "    cleaned_events\n",
    "    .groupby('user_id')['timestamp']\n",
    "    .apply(list)\n",
    "    .apply(np.diff)\n",
    "    .values\n",
    ")\n",
    "\n",
    "# Преобразуем в один столбец и переводим в дни\n",
    "gap_data = pd.Series(np.hstack(gap_data)) / (24 * 60 * 60)\n",
    "gap_data.head()"
   ]
  },
  {
   "cell_type": "markdown",
   "id": "c0187abf",
   "metadata": {},
   "source": [
    "Теперь у нас есть список всех временных промежутков между посещениями курса для каждого пользователя. Мы перевели значения из секунд в дни, чтобы лучше интерпретировать их."
   ]
  },
  {
   "cell_type": "code",
   "execution_count": null,
   "id": "f8edac13",
   "metadata": {},
   "outputs": [],
   "source": []
  },
  {
   "cell_type": "markdown",
   "id": "a513dc6b",
   "metadata": {},
   "source": [
    "✅ 4. Построение распределения интервалов между визитами"
   ]
  },
  {
   "cell_type": "code",
   "execution_count": 8,
   "id": "c7143a0d",
   "metadata": {},
   "outputs": [
    {
     "data": {
      "image/png": "[encoded data removed]",
      "text/plain": [
       "<Figure size 864x432 with 1 Axes>"
      ]
     },
     "metadata": {
      "needs_background": "light"
     },
     "output_type": "display_data"
    }
   ],
   "source": [
    "# Строим гистограмму временных промежутков между днями активности\n",
    "# Ограничиваем максимумом в 200 дней для визуальной ясности\n",
    "\n",
    "plt.figure(figsize=(12, 6))\n",
    "sns.histplot(gap_data[gap_data <= 200], bins=40, kde=True, color='skyblue', edgecolor='black')\n",
    "\n",
    "plt.title('Распределение промежутков между днями активности (макс. 200 дней)', fontsize=16)\n",
    "plt.xlabel('Промежуток (в днях)', fontsize=14)\n",
    "plt.ylabel('Количество пользователей', fontsize=14)\n",
    "plt.grid(True, linestyle='--', alpha=0.5)\n",
    "plt.tight_layout()\n",
    "plt.show()"
   ]
  },
  {
   "cell_type": "markdown",
   "id": "5048f5d4",
   "metadata": {},
   "source": [
    "Распределение показывает, что у большинства студентов между активными днями были небольшие перерывы. Однако встречаются и очень длинные промежутки, что характерно для тех, кто забросил курс."
   ]
  },
  {
   "cell_type": "code",
   "execution_count": null,
   "id": "321257ee",
   "metadata": {},
   "outputs": [],
   "source": []
  },
  {
   "cell_type": "markdown",
   "id": "d9306df9",
   "metadata": {},
   "source": [
    "✅ 5. Принятие решения о пороге дропаутов"
   ]
  },
  {
   "cell_type": "code",
   "execution_count": 9,
   "id": "a931458c",
   "metadata": {},
   "outputs": [
    {
     "name": "stdout",
     "output_type": "stream",
     "text": [
      "59.760440972222156\n",
      "18.325995370370403\n"
     ]
    }
   ],
   "source": [
    "# Определим на основе данных, какой интервал можно считать \"слишком долгим\", \n",
    "# чтобы пользователь уже не вернулся\n",
    "\n",
    "print(gap_data.quantile(0.95))\n",
    "print(gap_data.quantile(0.90))"
   ]
  },
  {
   "cell_type": "markdown",
   "id": "afdd2e67",
   "metadata": {},
   "source": [
    "На основе анализа распределения времени возврата пользователей после последнего действия на платформе:\n",
    "\n",
    "- 90% пользователей возвращаются в течение 18 дней;\n",
    "\n",
    "- Мы рассматриваем разумный промежуток между 18 и 60 днями (так как 60 дней — это верхняя граница \"редких\" возвратов);\n",
    "\n",
    "- В итоге принимаем 30 дней как порог, после которого пользователь считается ушедшим `(is_gone_user = True)`.\n",
    "\n",
    "- Такое решение позволяет с одной стороны не списывать слишком рано временно отсутствующих, а с другой — не затягивать с фиксацией дропаута.\n",
    "\n"
   ]
  },
  {
   "cell_type": "code",
   "execution_count": null,
   "id": "45202b27",
   "metadata": {},
   "outputs": [],
   "source": []
  },
  {
   "cell_type": "markdown",
   "id": "885a44fa",
   "metadata": {},
   "source": [
    "Важный момент: Если студент не поясляется на курсе но при этом он уже окончил курс и получил сертификат то он уже не явояется дропнувшимся.\n",
    "Условие: Студент не получил сертификат при этом не появляется на курсе больше чем на 30 дней то будем считать дропнувшимся."
   ]
  },
  {
   "cell_type": "markdown",
   "id": "3a51a768",
   "metadata": {},
   "source": [
    "### ⏰ Определение «выпавших» пользователей (дропаутов)\n",
    "\n",
    "На этом этапе мы добавляем признаки, связанные с завершением или прекращением участия в курсе:\n",
    "\n",
    "1. **`last_timestamp`** — для каждого пользователя определяем, когда он в последний раз был активен.\n",
    "2. **`is_gone_user`** — проверяем, прошло ли больше 30 дней с последней активности до конца курса.\n",
    "   - Если да, пользователь, скорее всего, **уже не вернётся**.\n",
    "3. **`is_dropout`** — финальный бинарный признак:\n",
    "   - `True`, если пользователь давно не появлялся **и** при этом **не прошёл курс**.\n",
    "   - Это целевая переменная, которую удобно использовать при моделировании оттока.\n",
    "\n",
    "Добавление этих признаков позволяет сегментировать пользователей и выявлять потенциальных дропаутов.\n"
   ]
  },
  {
   "cell_type": "code",
   "execution_count": 10,
   "id": "394b37af",
   "metadata": {
    "scrolled": true
   },
   "outputs": [
    {
     "data": {
      "text/html": [
       "<div>\n",
       "<style scoped>\n",
       "    .dataframe tbody tr th:only-of-type {\n",
       "        vertical-align: middle;\n",
       "    }\n",
       "\n",
       "    .dataframe tbody tr th {\n",
       "        vertical-align: top;\n",
       "    }\n",
       "\n",
       "    .dataframe thead th {\n",
       "        text-align: right;\n",
       "    }\n",
       "</style>\n",
       "<table border=\"1\" class=\"dataframe\">\n",
       "  <thead>\n",
       "    <tr style=\"text-align: right;\">\n",
       "      <th></th>\n",
       "      <th>user_id</th>\n",
       "      <th>last_timestamp</th>\n",
       "      <th>is_gone_user</th>\n",
       "    </tr>\n",
       "  </thead>\n",
       "  <tbody>\n",
       "    <tr>\n",
       "      <th>0</th>\n",
       "      <td>1</td>\n",
       "      <td>1472827464</td>\n",
       "      <td>True</td>\n",
       "    </tr>\n",
       "    <tr>\n",
       "      <th>1</th>\n",
       "      <td>2</td>\n",
       "      <td>1519226966</td>\n",
       "      <td>True</td>\n",
       "    </tr>\n",
       "    <tr>\n",
       "      <th>2</th>\n",
       "      <td>3</td>\n",
       "      <td>1444581588</td>\n",
       "      <td>True</td>\n",
       "    </tr>\n",
       "  </tbody>\n",
       "</table>\n",
       "</div>"
      ],
      "text/plain": [
       "   user_id  last_timestamp  is_gone_user\n",
       "0        1      1472827464          True\n",
       "1        2      1519226966          True\n",
       "2        3      1444581588          True"
      ]
     },
     "execution_count": 10,
     "metadata": {},
     "output_type": "execute_result"
    }
   ],
   "source": [
    "# Для каждого пользователя определяем время его последней активности.\n",
    "user_data = events_data.groupby('user_id', as_index=False) \\\n",
    "            .agg({'timestamp': 'max'}).rename(columns={'timestamp': 'last_timestamp'})\n",
    "\n",
    "# Указываем максимальный таймстемп в курсе — это конец курса.\n",
    "now = 1526772811\n",
    "\n",
    "# Порог дропаута: 30 дней в секундах.\n",
    "drop_out_threshold = 30 * 24 * 60 * 60\n",
    "\n",
    "# Вычисляем, прошло ли больше 30 дней с последнего посещения.\n",
    "user_data['is_gone_user'] = (now - user_data.last_timestamp) > drop_out_threshold\n",
    "\n",
    "# Просматриваем первые строки с новым признаком.\n",
    "user_data.head(3)"
   ]
  },
  {
   "cell_type": "code",
   "execution_count": null,
   "id": "93df4e7f",
   "metadata": {},
   "outputs": [],
   "source": []
  },
  {
   "cell_type": "markdown",
   "id": "060db392",
   "metadata": {},
   "source": [
    "### 📊 Формирование финального датасета `user_data`\n",
    "\n",
    "На этом этапе мы собираем все ключевые данные о пользователях в одну таблицу. Вот что происходит:\n",
    "\n",
    "1. **Объединение с таблицей `users_scores`** — добавляем информацию о набранных баллах.\n",
    "2. **Заполнение пропусков нулями** — важно для корректной работы последующих операций и моделей.\n",
    "3. **Агрегация действий пользователей**:\n",
    "   - Считаем, сколько раз пользователь выполнял каждое из действий: `viewed`, `started_attempt`, `passed`, `discovered`.\n",
    "   - Эти действия помогают понять активность и вовлечённость пользователя.\n",
    "4. **Подсчёт уникальных дней активности** — сколько дней пользователь вообще был активен на платформе.\n",
    "5. **Создание целевого признака `passed_course`**:\n",
    "   - Если пользователь завершил более 170 шагов, считаем, что он прошёл курс.\n",
    "   - Это бинарный флаг, который удобно использовать при обучении моделей (например, классификатора).\n",
    "6. **Получение первых строк таблицы** — быстрая проверка структуры и наполнения данных.\n",
    "\n",
    "В результате мы получаем финальный датасет `user_data`, готовый к анализу, визуализациям и машинному обучению."
   ]
  },
  {
   "cell_type": "code",
   "execution_count": 11,
   "id": "25a38a0e",
   "metadata": {
    "scrolled": true
   },
   "outputs": [
    {
     "data": {
      "text/html": [
       "<div>\n",
       "<style scoped>\n",
       "    .dataframe tbody tr th:only-of-type {\n",
       "        vertical-align: middle;\n",
       "    }\n",
       "\n",
       "    .dataframe tbody tr th {\n",
       "        vertical-align: top;\n",
       "    }\n",
       "\n",
       "    .dataframe thead th {\n",
       "        text-align: right;\n",
       "    }\n",
       "</style>\n",
       "<table border=\"1\" class=\"dataframe\">\n",
       "  <thead>\n",
       "    <tr style=\"text-align: right;\">\n",
       "      <th></th>\n",
       "      <th>user_id</th>\n",
       "      <th>last_timestamp</th>\n",
       "      <th>is_gone_user</th>\n",
       "      <th>correct</th>\n",
       "      <th>wrong</th>\n",
       "      <th>discovered</th>\n",
       "      <th>passed</th>\n",
       "      <th>started_attempt</th>\n",
       "      <th>viewed</th>\n",
       "      <th>day</th>\n",
       "      <th>passed_course</th>\n",
       "    </tr>\n",
       "  </thead>\n",
       "  <tbody>\n",
       "    <tr>\n",
       "      <th>0</th>\n",
       "      <td>1</td>\n",
       "      <td>1472827464</td>\n",
       "      <td>True</td>\n",
       "      <td>0.0</td>\n",
       "      <td>0.0</td>\n",
       "      <td>1</td>\n",
       "      <td>0</td>\n",
       "      <td>0</td>\n",
       "      <td>1</td>\n",
       "      <td>1</td>\n",
       "      <td>False</td>\n",
       "    </tr>\n",
       "    <tr>\n",
       "      <th>1</th>\n",
       "      <td>2</td>\n",
       "      <td>1519226966</td>\n",
       "      <td>True</td>\n",
       "      <td>2.0</td>\n",
       "      <td>0.0</td>\n",
       "      <td>9</td>\n",
       "      <td>9</td>\n",
       "      <td>2</td>\n",
       "      <td>10</td>\n",
       "      <td>2</td>\n",
       "      <td>False</td>\n",
       "    </tr>\n",
       "    <tr>\n",
       "      <th>2</th>\n",
       "      <td>3</td>\n",
       "      <td>1444581588</td>\n",
       "      <td>True</td>\n",
       "      <td>29.0</td>\n",
       "      <td>23.0</td>\n",
       "      <td>91</td>\n",
       "      <td>87</td>\n",
       "      <td>30</td>\n",
       "      <td>192</td>\n",
       "      <td>7</td>\n",
       "      <td>False</td>\n",
       "    </tr>\n",
       "  </tbody>\n",
       "</table>\n",
       "</div>"
      ],
      "text/plain": [
       "   user_id  last_timestamp  is_gone_user  correct  wrong  discovered  passed  \\\n",
       "0        1      1472827464          True      0.0    0.0           1       0   \n",
       "1        2      1519226966          True      2.0    0.0           9       9   \n",
       "2        3      1444581588          True     29.0   23.0          91      87   \n",
       "\n",
       "   started_attempt  viewed  day  passed_course  \n",
       "0                0       1    1          False  \n",
       "1                2      10    2          False  \n",
       "2               30     192    7          False  "
      ]
     },
     "execution_count": 11,
     "metadata": {},
     "output_type": "execute_result"
    }
   ],
   "source": [
    "# 📊 Строим сводную таблицу успеваемости пользователей\n",
    "# -----------------------------------------------------\n",
    "# Для каждого user_id считаем количество попыток по статусам (correct и wrong).\n",
    "# Это даст понимание, насколько успешно пользователь решает задания.\n",
    "\n",
    "# - fill_value=0: заменяет пропуски (если пользователь не делал попыток одного из типов) на 0\n",
    "# - reset_index(): возвращает user_id из индекса в обычную колонку\n",
    "\n",
    "users_scores = submissions_data.pivot_table(\n",
    "    index='user_id',\n",
    "    columns='submission_status',\n",
    "    values='step_id',\n",
    "    aggfunc='count',\n",
    "    fill_value=0\n",
    ").reset_index()\n",
    "\n",
    "# Объединяем user_data с таблицей users_scores по user_id, чтобы добавить информацию о баллах пользователей.\n",
    "user_data = user_data.merge(users_scores, on='user_id', how='outer')\n",
    "\n",
    "# Заполняем пропущенные значения нулями — особенно важно, если некоторые пользователи отсутствуют в отдельных источниках.\n",
    "user_data = user_data.fillna(0)\n",
    "\n",
    "# Формируем сводную таблицу с количеством действий каждого пользователя.\n",
    "users_events_data = events_data.pivot_table(\n",
    "    index='user_id',        # Группируем по пользователю.\n",
    "    columns='action',       # Разворачиваем тип действия в отдельные столбцы: viewed, passed, started_attempt, discovered.\n",
    "    values='step_id',       # Считаем количество действий по step_id.\n",
    "    aggfunc='count',        # Считаем общее количество действий каждого типа.\n",
    "    fill_value=0            # Если действий не было — подставляем 0.\n",
    ").reset_index()\n",
    "\n",
    "# Объединяем данные о действиях с основной таблицей user_data.\n",
    "user_data = user_data.merge(users_events_data, how='outer')\n",
    "\n",
    "# Считаем, в скольких уникальных днях принимал участие каждый пользователь.\n",
    "user_days = events_data.groupby('user_id').day.nunique().to_frame().reset_index()\n",
    "\n",
    "# Добавляем этот показатель (кол-во дней активности) в user_data.\n",
    "user_data = user_data.merge(user_days, on='user_id', how='outer')\n",
    "\n",
    "# Добавляем бинарный признак: прошёл ли пользователь курс.\n",
    "# Если количество завершённых шагов (passed) больше 170, считаем, что курс пройден.\n",
    "user_data['passed_course'] = user_data.passed > 170\n",
    "\n",
    "# Просматриваем первые 3 строки итогового датафрейма.\n",
    "user_data.head(3)"
   ]
  },
  {
   "cell_type": "code",
   "execution_count": 12,
   "id": "7f967e37",
   "metadata": {},
   "outputs": [
    {
     "data": {
      "text/plain": [
       "19234"
      ]
     },
     "execution_count": 12,
     "metadata": {},
     "output_type": "execute_result"
    }
   ],
   "source": [
    "#Проверка! Не потеряли мы данные\n",
    "user_data.user_id.nunique()"
   ]
  },
  {
   "cell_type": "code",
   "execution_count": 13,
   "id": "d476c5d7",
   "metadata": {},
   "outputs": [
    {
     "data": {
      "text/plain": [
       "19234"
      ]
     },
     "execution_count": 13,
     "metadata": {},
     "output_type": "execute_result"
    }
   ],
   "source": [
    "# Количество наших данных совпадают\n",
    "events_data.user_id.nunique()"
   ]
  },
  {
   "cell_type": "code",
   "execution_count": 14,
   "id": "2acece8c",
   "metadata": {},
   "outputs": [
    {
     "name": "stdout",
     "output_type": "stream",
     "text": [
      "Доля студентов, завершивших курс: 8.00%\n"
     ]
    }
   ],
   "source": [
    "# Проверка согласованности данных с отраслевыми показателями.\n",
    "# В среднем по индустрии онлайн-обучения только 5–10% студентов завершают курс.\n",
    "# У нас курс прошли 1425 пользователей из 17 809 — это примерно 8%, что подтверждает общую тенденцию.\n",
    "completion_rate = 100 * 1425 / 17809\n",
    "print(f'Доля студентов, завершивших курс: {completion_rate:.2f}%')"
   ]
  },
  {
   "cell_type": "code",
   "execution_count": null,
   "id": "bf63f25f",
   "metadata": {},
   "outputs": [],
   "source": []
  },
  {
   "cell_type": "markdown",
   "id": "b21a1dd0",
   "metadata": {},
   "source": [
    "Но всё же текущий датафрейм не так полезен, как хотелось бы.\n",
    "Мы имеем полную историю действий каждого студента, но это не особенно помогает понять, на каком именно этапе что-то пошло не так. Было бы гораздо ценнее научиться предсказывать, покинет ли студент курс — и сделать это как можно раньше.\n",
    "\n",
    "Представим, что мы возьмём агрегированные характеристики по каждому пользователю за первую неделю обучения:\n",
    "\n",
    "- сколько уникальных дней он был активен,\n",
    "\n",
    "- сколько у него было успешных и неуспешных сабмитов,\n",
    "\n",
    "- сколько баллов он набрал,\n",
    "и так далее.\n",
    "\n",
    "Если на основе этих данных мы сможем с достаточной точностью предсказать, дойдёт ли студент до конца курса, то у нас появится возможность вовремя вмешаться. Например, если система предсказывает, что студент может скоро уйти, мы можем помочь ему уже на первой неделе:\n",
    "— предложить подсказку,\n",
    "— подбодрить,\n",
    "— или объяснить сложную тему, если он, скажем, уже 5 раз не может решить задание.\n",
    "\n",
    "Такой подход может предотвратить \"отвал\" студента и вернуть его обратно в процесс обучения."
   ]
  },
  {
   "cell_type": "code",
   "execution_count": null,
   "id": "8310098d",
   "metadata": {},
   "outputs": [],
   "source": []
  },
  {
   "cell_type": "markdown",
   "id": "98c21f31",
   "metadata": {},
   "source": [
    "### ⏰ Подбираемся к Mashine Learning задаче"
   ]
  },
  {
   "cell_type": "markdown",
   "id": "c097c39e",
   "metadata": {},
   "source": [
    "Попробуем проанализировать поведение пользователей за первые несколько дней мы предскажем правда ли что студент курс успешно закончит или покинет его. Только пока мы незнаем сколько дней нам нужно чтобы предсказать поведение. Поэтому пробуем разные варианты и попытаемся нащупать время и качество. Думаю первые 2 недели будет слишком поздно для предсказания а вот первые 24 часа возможно но можем потерять в точности. Поэтому можно пока поэскпериментировать и начнем с 3 дней"
   ]
  },
  {
   "cell_type": "code",
   "execution_count": 15,
   "id": "cafeb09a",
   "metadata": {},
   "outputs": [
    {
     "data": {
      "text/plain": [
       "20.0"
      ]
     },
     "execution_count": 15,
     "metadata": {},
     "output_type": "execute_result"
    }
   ],
   "source": [
    "# 3 дня, посмотрим насколько это адекватно и выведим уникальные дни прохождение курса\n",
    "user_data[user_data['passed_course']==True].day.median()"
   ]
  },
  {
   "cell_type": "markdown",
   "id": "6787cc79",
   "metadata": {},
   "source": [
    "🔹 1. Получаем время первого действия каждого пользователя"
   ]
  },
  {
   "cell_type": "code",
   "execution_count": 16,
   "id": "616e10d5",
   "metadata": {},
   "outputs": [],
   "source": [
    "user_min_time = events_data.groupby('user_id')\\\n",
    "                .agg({'timestamp': 'min'})\\\n",
    "                .rename(columns={'timestamp':'min_timetamp'}).reset_index()\n",
    "\n",
    "# 👉 Для каждого user_id находим минимальный timestamp — момент первого действия пользователя на платформе.\n",
    "# Это нужно, чтобы отсчитывать 3 дня именно с его старта, а не с общего начала курса."
   ]
  },
  {
   "cell_type": "markdown",
   "id": "40a7ec8a",
   "metadata": {},
   "source": [
    "🔹 2. Объединяем это с user_data, чтобы добавить каждому пользователю дату старта"
   ]
  },
  {
   "cell_type": "code",
   "execution_count": 17,
   "id": "0f393c4c",
   "metadata": {},
   "outputs": [],
   "source": [
    "user_data = user_data.merge(user_min_time, on='user_id', how='outer')\n",
    "# 👉 Добавляем колонку min_timetamp в user_data, чтобы позже использовать её для создания признаков."
   ]
  },
  {
   "cell_type": "markdown",
   "id": "fdf9bf06",
   "metadata": {},
   "source": [
    "🔹 3. Цель — отобрать события, произошедшие в первые 3 дня с момента старта пользователя"
   ]
  },
  {
   "cell_type": "code",
   "execution_count": 18,
   "id": "0e7c864d",
   "metadata": {},
   "outputs": [],
   "source": [
    "events_data['user_time'] = events_data.user_id.map(str) + '_' + events_data.timestamp.map(str)\n",
    "# 👉 Создаём строку вида user_id_timestamp — удобная «метка времени» для фильтрации.\n",
    "\n",
    "learning_time_threshold = 3 * 60 * 60 * 24\n",
    "# 👉 3 дня в секундах = 259200 секунд. Это наш лимит."
   ]
  },
  {
   "cell_type": "markdown",
   "id": "ba3a0983",
   "metadata": {},
   "source": [
    "🔹 4. Строим пороговую метку времени на 3 дня вперёд от момента старта"
   ]
  },
  {
   "cell_type": "code",
   "execution_count": 19,
   "id": "0f72c720",
   "metadata": {},
   "outputs": [],
   "source": [
    "user_learning_time_threshold = user_min_time.user_id.map(str) + '_' + \\\n",
    "(user_min_time.min_timetamp + learning_time_threshold).map(str)\n",
    "user_min_time['user_learning_time_threshold'] = user_learning_time_threshold\n",
    "\n",
    "# 👉 Для каждого пользователя создаём строку user_id_timestamp_+_3дня, чтобы потом сравнить с user_time."
   ]
  },
  {
   "cell_type": "markdown",
   "id": "e42e4680",
   "metadata": {},
   "source": [
    "🔹 5. Объединяем с events_data и фильтруем по 3-дневному порогу"
   ]
  },
  {
   "cell_type": "code",
   "execution_count": 20,
   "id": "19bdae19",
   "metadata": {},
   "outputs": [
    {
     "data": {
      "text/plain": [
       "4"
      ]
     },
     "execution_count": 20,
     "metadata": {},
     "output_type": "execute_result"
    }
   ],
   "source": [
    "events_data = events_data.merge(user_min_time[['user_id', 'user_learning_time_threshold']], how='outer')\n",
    "events_data_train = events_data[events_data.user_time <= events_data.user_learning_time_threshold]\n",
    "# 👉 Теперь у нас есть только те события, которые произошли в первые 3 дня активности каждого пользователя.\n",
    "# Эти данные будут использоваться как тренировочные признаки.\n",
    "\n",
    "\n",
    "events_data_train.groupby('user_id').day.nunique().max()\n",
    "# 👉 Проверка: убедиться, что фильтрация сработала — максимум 3 дня на пользователя."
   ]
  },
  {
   "cell_type": "markdown",
   "id": "515cac60",
   "metadata": {},
   "source": [
    "🔹 7. Повторяем ту же фильтрацию для данных submissions_data"
   ]
  },
  {
   "cell_type": "code",
   "execution_count": 21,
   "id": "9990842b",
   "metadata": {},
   "outputs": [
    {
     "data": {
      "text/plain": [
       "4"
      ]
     },
     "execution_count": 21,
     "metadata": {},
     "output_type": "execute_result"
    }
   ],
   "source": [
    "submissions_data['user_timestamp'] = submissions_data.user_id.map(str) + '_' + submissions_data.timestamp.map(str)\n",
    "submissions_data = submissions_data.merge(user_min_time[['user_id', 'user_learning_time_threshold']], how='outer')\n",
    "submissions_data_train = submissions_data[submissions_data.user_timestamp <= submissions_data.user_learning_time_threshold]\n",
    "submissions_data_train.groupby('user_id').day.nunique().max()\n",
    "\n",
    "# 👉 Всё то же самое, только теперь мы отбираем попытки сдачи заданий в первые 3 дня.\n",
    "# Формируем обучающую выборку из данных submissions_data."
   ]
  },
  {
   "cell_type": "code",
   "execution_count": 22,
   "id": "1e42a010",
   "metadata": {},
   "outputs": [
    {
     "data": {
      "text/html": [
       "<div>\n",
       "<style scoped>\n",
       "    .dataframe tbody tr th:only-of-type {\n",
       "        vertical-align: middle;\n",
       "    }\n",
       "\n",
       "    .dataframe tbody tr th {\n",
       "        vertical-align: top;\n",
       "    }\n",
       "\n",
       "    .dataframe thead th {\n",
       "        text-align: right;\n",
       "    }\n",
       "</style>\n",
       "<table border=\"1\" class=\"dataframe\">\n",
       "  <thead>\n",
       "    <tr style=\"text-align: right;\">\n",
       "      <th></th>\n",
       "      <th>user_id</th>\n",
       "      <th>last_timestamp</th>\n",
       "      <th>is_gone_user</th>\n",
       "      <th>correct</th>\n",
       "      <th>wrong</th>\n",
       "      <th>discovered</th>\n",
       "      <th>passed</th>\n",
       "      <th>started_attempt</th>\n",
       "      <th>viewed</th>\n",
       "      <th>day</th>\n",
       "      <th>passed_course</th>\n",
       "      <th>min_timetamp</th>\n",
       "    </tr>\n",
       "  </thead>\n",
       "  <tbody>\n",
       "    <tr>\n",
       "      <th>0</th>\n",
       "      <td>1</td>\n",
       "      <td>1472827464</td>\n",
       "      <td>True</td>\n",
       "      <td>0.0</td>\n",
       "      <td>0.0</td>\n",
       "      <td>1</td>\n",
       "      <td>0</td>\n",
       "      <td>0</td>\n",
       "      <td>1</td>\n",
       "      <td>1</td>\n",
       "      <td>False</td>\n",
       "      <td>1472827464</td>\n",
       "    </tr>\n",
       "    <tr>\n",
       "      <th>1</th>\n",
       "      <td>2</td>\n",
       "      <td>1519226966</td>\n",
       "      <td>True</td>\n",
       "      <td>2.0</td>\n",
       "      <td>0.0</td>\n",
       "      <td>9</td>\n",
       "      <td>9</td>\n",
       "      <td>2</td>\n",
       "      <td>10</td>\n",
       "      <td>2</td>\n",
       "      <td>False</td>\n",
       "      <td>1514383364</td>\n",
       "    </tr>\n",
       "    <tr>\n",
       "      <th>2</th>\n",
       "      <td>3</td>\n",
       "      <td>1444581588</td>\n",
       "      <td>True</td>\n",
       "      <td>29.0</td>\n",
       "      <td>23.0</td>\n",
       "      <td>91</td>\n",
       "      <td>87</td>\n",
       "      <td>30</td>\n",
       "      <td>192</td>\n",
       "      <td>7</td>\n",
       "      <td>False</td>\n",
       "      <td>1434358476</td>\n",
       "    </tr>\n",
       "    <tr>\n",
       "      <th>3</th>\n",
       "      <td>5</td>\n",
       "      <td>1499859939</td>\n",
       "      <td>True</td>\n",
       "      <td>2.0</td>\n",
       "      <td>2.0</td>\n",
       "      <td>11</td>\n",
       "      <td>11</td>\n",
       "      <td>4</td>\n",
       "      <td>12</td>\n",
       "      <td>2</td>\n",
       "      <td>False</td>\n",
       "      <td>1466156809</td>\n",
       "    </tr>\n",
       "    <tr>\n",
       "      <th>4</th>\n",
       "      <td>7</td>\n",
       "      <td>1521634660</td>\n",
       "      <td>True</td>\n",
       "      <td>0.0</td>\n",
       "      <td>0.0</td>\n",
       "      <td>1</td>\n",
       "      <td>1</td>\n",
       "      <td>0</td>\n",
       "      <td>1</td>\n",
       "      <td>1</td>\n",
       "      <td>False</td>\n",
       "      <td>1521634660</td>\n",
       "    </tr>\n",
       "    <tr>\n",
       "      <th>...</th>\n",
       "      <td>...</td>\n",
       "      <td>...</td>\n",
       "      <td>...</td>\n",
       "      <td>...</td>\n",
       "      <td>...</td>\n",
       "      <td>...</td>\n",
       "      <td>...</td>\n",
       "      <td>...</td>\n",
       "      <td>...</td>\n",
       "      <td>...</td>\n",
       "      <td>...</td>\n",
       "      <td>...</td>\n",
       "    </tr>\n",
       "    <tr>\n",
       "      <th>19229</th>\n",
       "      <td>26790</td>\n",
       "      <td>1517495987</td>\n",
       "      <td>True</td>\n",
       "      <td>1.0</td>\n",
       "      <td>0.0</td>\n",
       "      <td>8</td>\n",
       "      <td>8</td>\n",
       "      <td>1</td>\n",
       "      <td>9</td>\n",
       "      <td>4</td>\n",
       "      <td>False</td>\n",
       "      <td>1451484016</td>\n",
       "    </tr>\n",
       "    <tr>\n",
       "      <th>19230</th>\n",
       "      <td>26793</td>\n",
       "      <td>1510225034</td>\n",
       "      <td>True</td>\n",
       "      <td>0.0</td>\n",
       "      <td>0.0</td>\n",
       "      <td>1</td>\n",
       "      <td>0</td>\n",
       "      <td>1</td>\n",
       "      <td>1</td>\n",
       "      <td>1</td>\n",
       "      <td>False</td>\n",
       "      <td>1510225031</td>\n",
       "    </tr>\n",
       "    <tr>\n",
       "      <th>19231</th>\n",
       "      <td>26794</td>\n",
       "      <td>1512035039</td>\n",
       "      <td>True</td>\n",
       "      <td>33.0</td>\n",
       "      <td>9.0</td>\n",
       "      <td>69</td>\n",
       "      <td>69</td>\n",
       "      <td>34</td>\n",
       "      <td>180</td>\n",
       "      <td>9</td>\n",
       "      <td>False</td>\n",
       "      <td>1495287049</td>\n",
       "    </tr>\n",
       "    <tr>\n",
       "      <th>19232</th>\n",
       "      <td>26797</td>\n",
       "      <td>1509995096</td>\n",
       "      <td>True</td>\n",
       "      <td>2.0</td>\n",
       "      <td>0.0</td>\n",
       "      <td>10</td>\n",
       "      <td>10</td>\n",
       "      <td>2</td>\n",
       "      <td>13</td>\n",
       "      <td>2</td>\n",
       "      <td>False</td>\n",
       "      <td>1508425316</td>\n",
       "    </tr>\n",
       "    <tr>\n",
       "      <th>19233</th>\n",
       "      <td>26798</td>\n",
       "      <td>1520978742</td>\n",
       "      <td>True</td>\n",
       "      <td>2.0</td>\n",
       "      <td>1.0</td>\n",
       "      <td>12</td>\n",
       "      <td>12</td>\n",
       "      <td>3</td>\n",
       "      <td>12</td>\n",
       "      <td>1</td>\n",
       "      <td>False</td>\n",
       "      <td>1520975763</td>\n",
       "    </tr>\n",
       "  </tbody>\n",
       "</table>\n",
       "<p>19234 rows × 12 columns</p>\n",
       "</div>"
      ],
      "text/plain": [
       "       user_id  last_timestamp  is_gone_user  correct  wrong  discovered  \\\n",
       "0            1      1472827464          True      0.0    0.0           1   \n",
       "1            2      1519226966          True      2.0    0.0           9   \n",
       "2            3      1444581588          True     29.0   23.0          91   \n",
       "3            5      1499859939          True      2.0    2.0          11   \n",
       "4            7      1521634660          True      0.0    0.0           1   \n",
       "...        ...             ...           ...      ...    ...         ...   \n",
       "19229    26790      1517495987          True      1.0    0.0           8   \n",
       "19230    26793      1510225034          True      0.0    0.0           1   \n",
       "19231    26794      1512035039          True     33.0    9.0          69   \n",
       "19232    26797      1509995096          True      2.0    0.0          10   \n",
       "19233    26798      1520978742          True      2.0    1.0          12   \n",
       "\n",
       "       passed  started_attempt  viewed  day  passed_course  min_timetamp  \n",
       "0           0                0       1    1          False    1472827464  \n",
       "1           9                2      10    2          False    1514383364  \n",
       "2          87               30     192    7          False    1434358476  \n",
       "3          11                4      12    2          False    1466156809  \n",
       "4           1                0       1    1          False    1521634660  \n",
       "...       ...              ...     ...  ...            ...           ...  \n",
       "19229       8                1       9    4          False    1451484016  \n",
       "19230       0                1       1    1          False    1510225031  \n",
       "19231      69               34     180    9          False    1495287049  \n",
       "19232      10                2      13    2          False    1508425316  \n",
       "19233      12                3      12    1          False    1520975763  \n",
       "\n",
       "[19234 rows x 12 columns]"
      ]
     },
     "execution_count": 22,
     "metadata": {},
     "output_type": "execute_result"
    }
   ],
   "source": [
    "user_data"
   ]
  },
  {
   "cell_type": "code",
   "execution_count": 23,
   "id": "706d20f2",
   "metadata": {},
   "outputs": [
    {
     "data": {
      "text/plain": [
       "False    0.925912\n",
       "True     0.074088\n",
       "Name: passed_course, dtype: float64"
      ]
     },
     "execution_count": 23,
     "metadata": {},
     "output_type": "execute_result"
    }
   ],
   "source": [
    "user_data['passed_course'].value_counts(normalize=True)"
   ]
  },
  {
   "cell_type": "markdown",
   "id": "2dbd8887",
   "metadata": {},
   "source": [
    "### Начинаем заполнять наши датафрейм X"
   ]
  },
  {
   "cell_type": "code",
   "execution_count": 24,
   "id": "9358c68d",
   "metadata": {},
   "outputs": [],
   "source": [
    "# Группируем данные по user_id и считаем количество уникальных дней, в которые пользователь отправлял решения.\n",
    "# Это даст нам представление о том, сколько дней пользователь был активен.\n",
    "X = submissions_data_train.groupby('user_id').day.nunique().to_frame().reset_index()\\\n",
    "                           .rename({'day' : 'days'}, axis=1)"
   ]
  },
  {
   "cell_type": "code",
   "execution_count": 25,
   "id": "59c175f6",
   "metadata": {},
   "outputs": [],
   "source": [
    "# Считаем, сколько уникальных шагов пытался решить каждый пользователь (неважно успешно или нет).\n",
    "# Это показывает, насколько активно пользователь работал с контентом.\n",
    "step_tried = submissions_data_train.groupby('user_id').step_id.nunique().to_frame().reset_index()\\\n",
    "             .rename({'step_id' : 'step_tried'}, axis=1)"
   ]
  },
  {
   "cell_type": "code",
   "execution_count": 26,
   "id": "71eac3ab",
   "metadata": {},
   "outputs": [],
   "source": [
    "# Объединяем данные по количеству активных дней и числу попыток решить шаги.\n",
    "X = X.merge(step_tried, on='user_id', how='outer')"
   ]
  },
  {
   "cell_type": "code",
   "execution_count": 27,
   "id": "a68f2893",
   "metadata": {},
   "outputs": [],
   "source": [
    "# Добавляем в таблицу количество успешных и неуспешных попыток по каждому пользователю.\n",
    "# submission_status — это либо 'correct', либо 'wrong'. Считаем количество каждого типа по user_id.\n",
    "\n",
    "X = X.merge(submissions_data_train.pivot_table(index='user_id', \n",
    "                                   columns='submission_status',   \n",
    "                                   values='step_id', \n",
    "                                   aggfunc='count',\n",
    "                                   fill_value=0\n",
    "                                  ).reset_index())"
   ]
  },
  {
   "cell_type": "code",
   "execution_count": 28,
   "id": "84435180",
   "metadata": {},
   "outputs": [],
   "source": [
    "# 📊 Добавляем новый признак: доля правильных решений (accuracy).\n",
    "# ---------------------------------------------------------------\n",
    "# Для каждого пользователя считаем отношение количества correct к общему числу попыток (correct + wrong).\n",
    "# Это показатель того, насколько точно студент решал задания.\n",
    "\n",
    "X['correct_ratio'] = round(X.correct / (X.correct + X.wrong), 2)"
   ]
  },
  {
   "cell_type": "code",
   "execution_count": 29,
   "id": "cecbe570",
   "metadata": {},
   "outputs": [],
   "source": [
    "# Добавляем число просмотров шагов (действие \"viewed\") из events_data_train.\n",
    "# Остальные действия не нужны, поэтому оставляем только колонку 'viewed'.\n",
    "X = X.merge(events_data_train.pivot_table(index='user_id', \n",
    "                              columns='action', \n",
    "                              values='step_id', \n",
    "                              aggfunc='count').reset_index()[['user_id', 'viewed']], how='outer')\n"
   ]
  },
  {
   "cell_type": "code",
   "execution_count": 30,
   "id": "8d44eeb8",
   "metadata": {},
   "outputs": [],
   "source": [
    "# Заполняем пропущенные значения нулями. Это нужно, чтобы не было NaN у пользователей,\n",
    "# у которых, например, нет отправленных решений или просмотров.\n",
    "X = X.fillna(0)"
   ]
  },
  {
   "cell_type": "code",
   "execution_count": 31,
   "id": "7f03fda8",
   "metadata": {},
   "outputs": [],
   "source": [
    "# Добавляем в таблицу информацию, закончил ли пользователь курс и ушёл ли он с платформы.\n",
    "X = X.merge(user_data[['user_id', 'is_gone_user', 'passed_course']], how='outer')"
   ]
  },
  {
   "cell_type": "code",
   "execution_count": 32,
   "id": "1f18af67",
   "metadata": {},
   "outputs": [],
   "source": [
    "# Фильтруем таблицу: оставляем только тех пользователей, статус которых нам ясен.\n",
    "# Удаляем тех, кто не бросил курс (is_gone_user == False), но и не закончил его (passed_course == False).\n",
    "# Они \"зависшие\", не завершили и не ушли — по ним сложно делать вывод.\n",
    "X = X[~((X.is_gone_user == False) & (X.passed_course == False))]"
   ]
  },
  {
   "cell_type": "code",
   "execution_count": 33,
   "id": "f90c8f2f",
   "metadata": {
    "scrolled": true
   },
   "outputs": [
    {
     "data": {
      "text/plain": [
       "is_gone_user  passed_course\n",
       "False         True               141\n",
       "True          False            16560\n",
       "              True              1284\n",
       "Name: user_id, dtype: int64"
      ]
     },
     "execution_count": 33,
     "metadata": {},
     "output_type": "execute_result"
    }
   ],
   "source": [
    "X.groupby(['is_gone_user', 'passed_course']).user_id.count()"
   ]
  },
  {
   "cell_type": "code",
   "execution_count": 34,
   "id": "4dc7d71c",
   "metadata": {},
   "outputs": [],
   "source": [
    "# Создаём целевой признак y — переведём булевы значения 'passed_course' в 0/1\n",
    "# 1 — если студент закончил курс, 0 — если нет\n",
    "y = X.passed_course.map(int)"
   ]
  },
  {
   "cell_type": "code",
   "execution_count": 35,
   "id": "684ff0db",
   "metadata": {},
   "outputs": [],
   "source": [
    "# Убираем из признаков колонки, которые содержат целевую переменную или лишние данные:\n",
    "# - 'passed_course' — она теперь в y, поэтому не нужна в X\n",
    "# - 'is_gone_user' — признак статуса ухода, который мы не будем использовать как признак модели\n",
    "X = X.drop(['is_gone_user', 'passed_course'], axis=1)"
   ]
  },
  {
   "cell_type": "code",
   "execution_count": 36,
   "id": "46a132be",
   "metadata": {},
   "outputs": [],
   "source": [
    "# Устанавливаем 'user_id' как индекс таблицы X, чтобы удобно обращаться к строкам по пользователям\n",
    "X = X.set_index(X.user_id)\n",
    "\n",
    "# После установки индекса, удаляем колонку 'user_id', чтобы не дублировать информацию\n",
    "X = X.drop(['user_id'], axis=1)"
   ]
  },
  {
   "cell_type": "code",
   "execution_count": null,
   "id": "0784054d",
   "metadata": {},
   "outputs": [],
   "source": []
  },
  {
   "cell_type": "code",
   "execution_count": null,
   "id": "79888221",
   "metadata": {},
   "outputs": [],
   "source": []
  },
  {
   "cell_type": "code",
   "execution_count": 37,
   "id": "feba81cc",
   "metadata": {},
   "outputs": [],
   "source": [
    "from sklearn.model_selection import train_test_split\n",
    "from sklearn.tree import DecisionTreeClassifier\n",
    "from sklearn.metrics import classification_report, roc_auc_score, confusion_matrix\n",
    "from sklearn.metrics import roc_auc_score, precision_score, recall_score, f1_score"
   ]
  },
  {
   "cell_type": "code",
   "execution_count": 39,
   "id": "3ad6b65c",
   "metadata": {},
   "outputs": [],
   "source": [
    "# Разбиваем данные на обучающую и тестовую выборки\n",
    "# stratify=y — чтобы сохранить пропорции классов в обеих выборках\n",
    "# shuffle=True — перемешиваем данные перед разбиением для случайности\n",
    "X_train, X_test, y_train, y_test = train_test_split(\n",
    "    X, y, test_size=0.25, random_state=42, stratify=y, shuffle=True)\n",
    "\n",
    "# Создаем пустой DataFrame для хранения результатов экспериментов с параметрами модели\n",
    "scores_data = pd.DataFrame(columns=[ 'train_score', 'test_score', 'overfit_gap',\n",
    "                                    'precision', 'recall', 'f1', 'roc_auc'])\n",
    "\n",
    "# В цикле пытаемся подобрать параметры модели Decision Tree вручную,\n",
    "# так как GridSearchCV на этом наборе данных работает слишком медленно.\n",
    "# Здесь перебрал каждый параметр.\n",
    "for max_depth in range(1, 300): \n",
    "    model = DecisionTreeClassifier(criterion='entropy',\n",
    "                                   max_depth=6, \n",
    "                                   random_state=41, \n",
    "                                   min_samples_leaf=273,\n",
    "                                   min_samples_split=70,\n",
    "                                   class_weight='balanced')\n",
    "    model.fit(X_train, y_train)\n",
    "    # accuracy\n",
    "    train_score = model.score(X_train, y_train)\n",
    "    test_score = model.score(X_test, y_test)\n",
    "    \n",
    "    overfit = train_score - test_score\n",
    "    \n",
    "    # roc-auc\n",
    "    y_proba = model.predict_proba(X_test)[:, 1]\n",
    "    roc_auc = roc_auc_score(y_test, y_proba)\n",
    "    \n",
    "    # предсказания\n",
    "    y_pred    = model.predict(X_test)\n",
    "    precision = precision_score(y_test, y_pred)\n",
    "    recall    = recall_score(y_test, y_pred)\n",
    "    f1        = f1_score(y_test, y_pred)\n",
    "\n",
    "    # Добавляем результаты в Таблицу \n",
    "    scores_data.loc[len(scores_data)] = [train_score, test_score, overfit, precision,\n",
    "    recall, f1, roc_auc]\n",
    "    \n",
    "best_row = scores_data.loc[scores_data['recall'].idxmax()]"
   ]
  },
  {
   "cell_type": "code",
   "execution_count": 40,
   "id": "9d3d4bde",
   "metadata": {},
   "outputs": [
    {
     "data": {
      "text/plain": [
       "train_score    0.716489\n",
       "test_score     0.726040\n",
       "overfit_gap   -0.009551\n",
       "precision      0.203654\n",
       "recall         0.845506\n",
       "f1             0.328244\n",
       "roc_auc        0.850798\n",
       "Name: 0, dtype: float64"
      ]
     },
     "execution_count": 40,
     "metadata": {},
     "output_type": "execute_result"
    }
   ],
   "source": [
    "best_row"
   ]
  },
  {
   "cell_type": "code",
   "execution_count": null,
   "id": "b82d87c7",
   "metadata": {},
   "outputs": [],
   "source": []
  },
  {
   "cell_type": "code",
   "execution_count": null,
   "id": "1445e861",
   "metadata": {},
   "outputs": [],
   "source": []
  },
  {
   "cell_type": "code",
   "execution_count": null,
   "id": "4cb8d877",
   "metadata": {},
   "outputs": [],
   "source": []
  },
  {
   "cell_type": "code",
   "execution_count": 41,
   "id": "b77ba419",
   "metadata": {},
   "outputs": [
    {
     "name": "stdout",
     "output_type": "stream",
     "text": [
      "                 Model  Accuracy   ROC-AUC  Precision    Recall  F1-score\n",
      "0        Decision Tree  0.751390  0.850995   0.215672  0.811798  0.340802\n",
      "1        Random Forest  0.769179  0.849477   0.223214  0.772472  0.346348\n",
      "2  Logistic Regression  0.726707  0.832170   0.202454  0.834270  0.325837\n"
     ]
    }
   ],
   "source": [
    "from sklearn.tree import DecisionTreeClassifier\n",
    "from sklearn.ensemble import RandomForestClassifier\n",
    "from sklearn.linear_model import LogisticRegression\n",
    "from sklearn.metrics import roc_auc_score, precision_score, recall_score, f1_score\n",
    "import pandas as pd\n",
    "\n",
    "# Список моделей\n",
    "models = {\n",
    "    'Decision Tree': DecisionTreeClassifier(max_depth=6, random_state=41, class_weight='balanced',\n",
    "                                            min_samples_leaf=273, min_samples_split=70),\n",
    "    'Random Forest': RandomForestClassifier(n_estimators=200, max_depth=6, random_state=41, class_weight='balanced'),\n",
    "    'Logistic Regression': LogisticRegression(max_iter=1000, random_state=41, class_weight='balanced')}\n",
    "\n",
    "results = []\n",
    "\n",
    "# Проходим по каждой модели, обучаем и оцениваем на тестовой выборке\n",
    "for name, model in models.items():\n",
    "    model.fit(X_train, y_train)\n",
    "    y_pred = model.predict(X_test)\n",
    "    y_proba = model.predict_proba(X_test)[:, 1]\n",
    "    \n",
    "    # Вычисляем метрики качества\n",
    "    roc_auc = roc_auc_score(y_test, y_proba)\n",
    "    precision = precision_score(y_test, y_pred)\n",
    "    recall = recall_score(y_test, y_pred)\n",
    "    f1 = f1_score(y_test, y_pred)\n",
    "    accuracy = model.score(X_test, y_test)\n",
    "    \n",
    "    # Собираем результаты в список словарей\n",
    "    results.append({\n",
    "        'Model': name,\n",
    "        'Accuracy': accuracy,\n",
    "        'ROC-AUC': roc_auc,\n",
    "        'Precision': precision,\n",
    "        'Recall': recall,\n",
    "        'F1-score': f1\n",
    "    })\n",
    "\n",
    "# Преобразуем результаты в DataFrame и выводим\n",
    "results_df = pd.DataFrame(results)\n",
    "results_df = results_df.sort_values(by='ROC-AUC', ascending=False).reset_index(drop=True)\n",
    "print(results_df)\n"
   ]
  },
  {
   "cell_type": "code",
   "execution_count": null,
   "id": "1c31d16a",
   "metadata": {},
   "outputs": [],
   "source": []
  },
  {
   "cell_type": "markdown",
   "id": "22d2d190",
   "metadata": {},
   "source": [
    "| Модель              | Accuracy | ROC-AUC | Precision | Recall | F1-score |\n",
    "| ------------------- | -------- | ------- | --------- | ------ | -------- |\n",
    "| Random Forest       | 0.77     | 0.85    | 0.22      | 0.77   | 0.35     |\n",
    "| Decision Tree       | 0.75     | 0.85    | 0.22      | 0.81   | 0.34     |\n",
    "| Logistic Regression | 0.73     | 0.83    | 0.20      | 0.83   | 0.33     |\n"
   ]
  },
  {
   "cell_type": "markdown",
   "id": "2cad9890",
   "metadata": {},
   "source": [
    "* Все три модели показываю хорошее качество с точки зрения roc-auc 0.85. Это отличный способ отличать студентов которые завершат курс, от тех, кто его бросит.\n",
    "\n",
    "* Random Forest показал самый высокий показатель точности -- 0.77 что говорит о том, что он чаще правильно классифицирует как \"закончивших\", так и \"отвалившихся\".\n",
    "\n",
    "* Decision Tree показал самый высокий полноту 81%. Это значит, что она лучше всего обнаруживает студентов, которые действительно завершают курс, что важно, если приоритет — минимизировать пропуск успешных студентов.\n",
    "\n",
    "* Logistic Regression немного уступает в общем качестве, но имеет самый высокий Recall (83%), то есть хорошо находит тех, кто закончит курс, хотя при этом точность ниже.\n",
    "\n",
    "* Значения Precision у всех моделей низкие (около 20-22%), что указывает на высокий уровень ложных срабатываний. В данном контексте это означает, что модели часто ошибочно прогнозируют, что студент завершит курс, хотя он этого не делает. Это может быть следствием сильного дисбаланса классов.\n",
    "\n",
    "* F1-score — гармоническое среднее Precision и Recall — около 0.33–0.35 у всех моделей, что указывает на компромисс между полнотой и точностью.\n",
    "\n",
    "* Низкие значения Precision (~20%) указывают на высокое число ложных срабатываний — модели часто ошибочно предсказывают успешное завершение курса. Это связано с дисбалансом классов в данных."
   ]
  },
  {
   "cell_type": "code",
   "execution_count": null,
   "id": "bd0cc0b5",
   "metadata": {},
   "outputs": [],
   "source": []
  },
  {
   "cell_type": "markdown",
   "id": "ec5b83d9",
   "metadata": {},
   "source": [
    "#### Неудачные попытки и особенности работы с данными"
   ]
  },
  {
   "cell_type": "markdown",
   "id": "d194a698",
   "metadata": {},
   "source": [
    "\n",
    "* Я пробовал использовать SMOTE для балансировки классов, но это привело к снижению ROC-AUC.\n",
    "\n",
    "* Попытки тонко подбирать параметры с помощью GridSearchCV были ограничены из-за ограниченных вычислительных ресурсов.\n",
    "\n",
    "* Также пробовал балансировку порогов классификации, что снижало ROC-AUC.\n",
    "\n",
    "* Показатель ROC-AUC выбран как основная метрика, так как он учитывает качество ранжирования и был ключевым в соревновании, на котором базируется задача.\n",
    "\n",
    "* Добавлял и убавлял признаки\n",
    "\n",
    "* Пробовал более сложные модели как Градиент"
   ]
  },
  {
   "cell_type": "code",
   "execution_count": null,
   "id": "99ca0faa",
   "metadata": {},
   "outputs": [],
   "source": []
  },
  {
   "cell_type": "markdown",
   "id": "c670ddc0",
   "metadata": {},
   "source": [
    "---\n",
    "\n",
    "## Выводы\n",
    "\n",
    "- Построены признаки активности студентов за первые дни (количество сабмитов, просмотров, уникальных дней активности и др.).\n",
    "- Обучено несколько моделей (Decision Tree, Random Forest, Logistic Regression).\n",
    "- Лучшая модель показывает ROC‑AUC ≈ 0.85 — это хороший показатель разделения между “завершающими” и “отваливающимися” студентами.\n",
    "- Попытки улучшить модель через SMOTE (балансировка классов), GridSearch и изменение порогов ухудшали ROC‑AUC, поэтому выбрано базовое дерево решений с подбором параметров вручную.\n",
    "- Такую модель можно встроить в LMS‑платформу: если вероятность ухода > 0.7, студенту показывается подсказка, мотивационное сообщение или дополнительный учебный материал.\n",
    "\n",
    "**Потенциал развития:**\n",
    "- Пробовать Gradient Boosting / CatBoost\n",
    "- Уточнять признаки вовлечённости\n",
    "- Добавлять персональные рекомендации для удержания\n",
    "\n"
   ]
  }
 ],
 "metadata": {
  "kernelspec": {
   "display_name": "Python 3 (ipykernel)",
   "language": "python",
   "name": "python3"
  },
  "language_info": {
   "codemirror_mode": {
    "name": "ipython",
    "version": 3
   },
   "file_extension": ".py",
   "mimetype": "text/x-python",
   "name": "python",
   "nbconvert_exporter": "python",
   "pygments_lexer": "ipython3",
   "version": "3.9.12"
  }
 },
 "nbformat": 4,
 "nbformat_minor": 5
}
